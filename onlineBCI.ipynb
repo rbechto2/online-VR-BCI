{
 "cells": [
  {
   "cell_type": "code",
   "execution_count": 7,
   "id": "2c3058f5",
   "metadata": {},
   "outputs": [],
   "source": [
    "import time\n",
    "import matplotlib.pyplot as plt\n",
    "import tdt\n",
    "import numpy as np\n",
    "import pyautogui"
   ]
  },
  {
   "cell_type": "code",
   "execution_count": 8,
   "id": "c6b4107c",
   "metadata": {},
   "outputs": [
    {
     "data": {
      "text/plain": [
       "1"
      ]
     },
     "execution_count": 8,
     "metadata": {},
     "output_type": "execute_result"
    }
   ],
   "source": [
    "#Synapse Experiment Name\n",
    "EXPERIMENT = 'SignalGenerator'\n",
    "\n",
    "#Identify gizmos and variables of interest \n",
    "MAIN_GIZMO = 'Filt1'\n",
    "MAIN_PARAMETER = 'out_Main'\n",
    "STIM_GIZMO = 'eStim1'\n",
    "STIM_PARAMETER = 'out_Stim'\n",
    "\n",
    "#Total Time to Run Experiment\n",
    "TOTAL_TIME = 25\n",
    "\n",
    "#Initialize variables\n",
    "data = np.zeros((4,200))\n",
    "stim = np.zeros((4,200))\n",
    "seconds = np.zeros(200)\n",
    "current_Time = 0\n",
    "count = 0\n",
    "\n",
    "# Connect to Synapse\n",
    "syn = tdt.SynapseAPI('localhost')\n",
    "syn.setCurrentExperiment(EXPERIMENT)"
   ]
  },
  {
   "cell_type": "code",
   "execution_count": 9,
   "id": "e59ef680",
   "metadata": {},
   "outputs": [],
   "source": [
    "#Set Synapse mode to run\n",
    "syn.setModeStr('Preview')\n",
    "\n",
    "# Wait five seconds to give 'getSystemStatus' time to update internally\n",
    "time.sleep(5)"
   ]
  },
  {
   "cell_type": "code",
   "execution_count": 10,
   "id": "4d636e46",
   "metadata": {
    "scrolled": false
   },
   "outputs": [
    {
     "name": "stdout",
     "output_type": "stream",
     "text": [
      "up arrow\n",
      "up arrow\n",
      "up arrow\n",
      "up arrow\n",
      "no movement\n",
      "no movement\n",
      "down arrow\n",
      "down arrow\n",
      "down arrow\n",
      "down arrow\n",
      "down arrow\n",
      "no movement\n",
      "no movement\n",
      "no movement\n",
      "no movement\n",
      "up arrow\n",
      "up arrow\n",
      "up arrow\n",
      "up arrow\n",
      "up arrow\n",
      "up arrow\n",
      "no movement\n",
      "no movement\n",
      "down arrow\n",
      "down arrow\n",
      "down arrow\n",
      "down arrow\n",
      "no movement\n",
      "no movement\n",
      "no movement\n",
      "no movement\n",
      "up arrow\n",
      "up arrow\n",
      "up arrow\n",
      "up arrow\n",
      "up arrow\n",
      "no movement\n",
      "no movement\n",
      "down arrow\n",
      "down arrow\n",
      "down arrow\n",
      "down arrow\n",
      "down arrow\n",
      "no movement\n",
      "no movement\n",
      "no movement\n",
      "no movement\n",
      "up arrow\n",
      "up arrow\n",
      "up arrow\n",
      "up arrow\n",
      "up arrow\n",
      "no movement\n",
      "no movement\n",
      "down arrow\n",
      "down arrow\n",
      "down arrow\n",
      "down arrow\n",
      "down arrow\n",
      "no movement\n",
      "no movement\n",
      "no movement\n",
      "no movement\n",
      "up arrow\n",
      "up arrow\n",
      "up arrow\n",
      "up arrow\n",
      "up arrow\n",
      "no movement\n",
      "no movement\n",
      "down arrow\n",
      "down arrow\n",
      "down arrow\n",
      "down arrow\n",
      "no movement\n",
      "no movement\n",
      "no movement\n",
      "no movement\n",
      "up arrow\n",
      "up arrow\n",
      "up arrow\n",
      "up arrow\n",
      "up arrow\n",
      "no movement\n",
      "no movement\n",
      "down arrow\n",
      "down arrow\n",
      "down arrow\n",
      "down arrow\n",
      "down arrow\n",
      "no movement\n",
      "no movement\n",
      "no movement\n",
      "no movement\n",
      "no movement\n",
      "up arrow\n",
      "up arrow\n",
      "up arrow\n",
      "up arrow\n",
      "up arrow\n",
      "no movement\n",
      "no movement\n",
      "down arrow\n",
      "down arrow\n",
      "down arrow\n",
      "down arrow\n",
      "down arrow\n",
      "no movement\n",
      "no movement\n",
      "no movement\n",
      "no movement\n",
      "up arrow\n",
      "up arrow\n",
      "up arrow\n",
      "up arrow\n",
      "up arrow\n",
      "no movement\n",
      "no movement\n",
      "down arrow\n",
      "down arrow\n",
      "down arrow\n",
      "Done\n"
     ]
    }
   ],
   "source": [
    "#Qery Variable Infromation\n",
    "info = syn.getParameterInfo(MAIN_GIZMO, MAIN_PARAMETER)\n",
    "sz_main = syn.getParameterSize(MAIN_GIZMO, MAIN_PARAMETER)\n",
    "sz_stim = syn.getParameterSize(STIM_GIZMO, STIM_PARAMETER)\n",
    "\n",
    "#Begin runtime analysis\n",
    "while current_Time < TOTAL_TIME:\n",
    "    seconds[count] = time.time()\n",
    "    # read all values from buffer\n",
    "    \n",
    "    #Get Current Time of Synapse System\n",
    "    current_Time = syn.getSystemStatus()['recordSecs'] \n",
    "    \n",
    "    #Get Real-time Neural Data From Synapse [#Channel x 1]\n",
    "    data[:,count] = syn.getParameterValues(MAIN_GIZMO, MAIN_PARAMETER)\n",
    "    \n",
    "    #Get current Stimulation Values\n",
    "    stim[:,count] = syn.getParameterValues(STIM_GIZMO,STIM_PARAMETER)\n",
    "    \n",
    "    #Output Keyboard signal to control unity game.\n",
    "    if stim[0,count] == 1: #If Stim signal is 1 then send up arrow to unity\n",
    "        pyautogui.keyDown('up')\n",
    "        print('up arrow')\n",
    "    elif stim[0,count] == -1: #If Stim signal is -1 then send down arrow to unity\n",
    "        pyautogui.keyDown('down')\n",
    "        print('down arrow')\n",
    "    elif stim[0,count] == 0: #If Stim signal is 0 then stop sending keypresses to unity\n",
    "        pyautogui.keyUp('up')\n",
    "        pyautogui.keyUp('down')\n",
    "        print('no movement')\n",
    "\n",
    "    count = count+1\n",
    "\n",
    "#Release any keys left held down\n",
    "pyautogui.keyUp('up')\n",
    "pyautogui.keyUp('down')\n",
    "\n",
    "#End Synapse Experiment (Returns to Idle state)\n",
    "syn.setModeStr('Idle')\n",
    "print('Done') "
   ]
  },
  {
   "cell_type": "code",
   "execution_count": 11,
   "id": "8d4d5a5e",
   "metadata": {
    "scrolled": false
   },
   "outputs": [
    {
     "data": {
      "text/plain": [
       "[<matplotlib.lines.Line2D at 0x24d4f0dd4c0>]"
      ]
     },
     "execution_count": 11,
     "metadata": {},
     "output_type": "execute_result"
    },
    {
     "data": {
      "image/png": "[encoded data removed]",
      "text/plain": [
       "<Figure size 432x288 with 1 Axes>"
      ]
     },
     "metadata": {
      "needs_background": "light"
     },
     "output_type": "display_data"
    }
   ],
   "source": [
    "#For debugging: plots recorded data from three channels and the stim overlayed\n",
    "plt.plot(data[0:3,:].T)\n",
    "plt.plot(.0005*stim[0,:].T)"
   ]
  },
  {
   "cell_type": "code",
   "execution_count": 12,
   "id": "87bb5315",
   "metadata": {
    "scrolled": false
   },
   "outputs": [
    {
     "name": "stdout",
     "output_type": "stream",
     "text": [
      "26.11159372329712\n",
      "4.8\n"
     ]
    }
   ],
   "source": [
    "a = seconds[count-1]-seconds[0]\n",
    "print(a)\n",
    "print((count-1)/25)"
   ]
  },
  {
   "cell_type": "code",
   "execution_count": null,
   "id": "ea3625ae",
   "metadata": {
    "scrolled": false
   },
   "outputs": [],
   "source": []
  },
  {
   "cell_type": "code",
   "execution_count": null,
   "id": "2c75a390",
   "metadata": {},
   "outputs": [],
   "source": []
  }
 ],
 "metadata": {
  "kernelspec": {
   "display_name": "Python 3 (ipykernel)",
   "language": "python",
   "name": "python3"
  },
  "language_info": {
   "codemirror_mode": {
    "name": "ipython",
    "version": 3
   },
   "file_extension": ".py",
   "mimetype": "text/x-python",
   "name": "python",
   "nbconvert_exporter": "python",
   "pygments_lexer": "ipython3",
   "version": "3.9.10"
  }
 },
 "nbformat": 4,
 "nbformat_minor": 5
}
